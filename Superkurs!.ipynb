{
  "nbformat": 4,
  "nbformat_minor": 0,
  "metadata": {
    "colab": {
      "provenance": [],
      "toc_visible": true
    },
    "kernelspec": {
      "name": "python3",
      "display_name": "Python 3"
    },
    "language_info": {
      "name": "python"
    }
  },
  "cells": [
    {
      "cell_type": "markdown",
      "source": [
        "# Verdas kortaste kurs i python!\n",
        "Neida, det er kanskje ikkje verdas kortaste.\n",
        "Her skal vi gå gjennom dei viktigaste kommandoane for å kome i gang med python. Dette er eit \"work in progress\", så det vil nok vere ting som ikkje er ferdig eller som er feil.\n",
        "\n",
        "\n",
        "---\n",
        "\n"
      ],
      "metadata": {
        "id": "gQ6VGD_D5SrS"
      }
    },
    {
      "cell_type": "markdown",
      "source": [
        "# Skrive noko\n",
        "Vi begynner sjølvsagt med det mest grunnleggjande, ein skrive-kommando! Det første ein SKAL gjera når ein lærar programmering er å få datamaskina til å skrive ut HELLO WORLD! Ein veit ikkje heilt kva som skjer om ein ikkje gjer dette, men tør du eigentleg å ta sjansen på å finne det ut? Til å skrive noko på skjermen brukar vi `print`-kommandoen. Det vi skal skrive ut må stå i parentes OG anførselsteikn. Trykk PLAY (trekanten) til venstre i \"kodecella\" for å sjå korleis det blir i cella under."
      ],
      "metadata": {
        "id": "bhusC5yh5f9E"
      }
    },
    {
      "cell_type": "code",
      "execution_count": null,
      "metadata": {
        "id": "7lHQTGr45mUs"
      },
      "outputs": [],
      "source": [
        "# Print til skjermen\n",
        "print(\"Hello, world!\")"
      ]
    },
    {
      "cell_type": "markdown",
      "source": [
        "NB! Merk at det vi skriv bak eit pundteikn (#) blir sett bort frå når vi køyrer programmet. Det kallar vi ein *kommentar* og er nyttig om vi vil skrive eit lite notat til oss sjølv av ein eller anna grunn. Om du skal bruke programmet du lagar om nokre månadar så hugser du jo ikkje logikken i alt du gjer, så kommentarar er essensielle i all programmering.\n",
        "\n",
        "Så da blir det vel ein smal sak for deg å skrive ut namnet ditt i neste rute?"
      ],
      "metadata": {
        "id": "bbAtyUlHFX0x"
      }
    },
    {
      "cell_type": "code",
      "source": [
        "#Prøv på neste linje. Trykk PLAY-knappen for å sjekke.\n",
        "\n"
      ],
      "metadata": {
        "id": "mrZFUVp-Fb8x"
      },
      "execution_count": null,
      "outputs": []
    },
    {
      "cell_type": "markdown",
      "source": [
        "Det er mykje å lære om print, f.eks. korleis ein inkluderer variablar, formaterer tekst og så vidare. Gå vidare til [print-kapitlet](https://colab.research.google.com/drive/1pLCU0jUxMVfGh9EF8FD5hwd9ktM0zy-s?usp=sharing) om du vil ha ei djupare forståing av denne kommandoen!"
      ],
      "metadata": {
        "id": "mPJsHc04U6e1"
      }
    },
    {
      "cell_type": "markdown",
      "source": [
        "# Variablar\n",
        "Det neste viktige å vite om er variablar. Dette er på ein måte pappesker med merkelapper på. I ei pappeske kan du ha ting og utapå kan du skrive ein merkelapp. Variabelen kan vi tenkje på som merkelappen (f.eks. \"navn\") og innholdet kan vere \"Kristin\"."
      ],
      "metadata": {
        "id": "sdLPVUvgFsC0"
      }
    },
    {
      "cell_type": "code",
      "source": [
        "Namn = \"Kristin\" # Dette er ein variabel\n",
        "Tall = 42 # Dette er ein anna variabel"
      ],
      "metadata": {
        "id": "3teinxHvIA_8"
      },
      "execution_count": null,
      "outputs": []
    },
    {
      "cell_type": "markdown",
      "source": [
        "Det fine med variablar er at vi kan la dei endre seg i løpet av eit program. I programmet under starter det med at variabelen tall har verdien 14. Men i neste linje endrer vi på den og når vi skriver den ut har den denne nye verdien."
      ],
      "metadata": {
        "id": "ukRcUo_YLYCi"
      }
    },
    {
      "cell_type": "code",
      "source": [
        "tall = 14\n",
        "tall = 10\n",
        "print(tall)"
      ],
      "metadata": {
        "id": "97qcSrJxLm8m"
      },
      "execution_count": null,
      "outputs": []
    },
    {
      "cell_type": "markdown",
      "source": [
        "Gå vidare til [kapitlet om variabler](https://colab.research.google.com/drive/1E6lt6e2Uz4EeK8Df4ToiIAqWmYMPzgXf?usp=sharing) når du er klar for det!"
      ],
      "metadata": {
        "id": "pGsZ6pHngQcB"
      }
    },
    {
      "cell_type": "markdown",
      "source": [
        "# input\n",
        "Vi kan fylle variablar med innhald når vi programmerer eller vi kan la den som bruker programmet legge inn innhaldet. Til å hente inn verdiar frå den som bruker programmet kan vi bruke input-kommandoen. Programmet under vil be deg skrive inn noko, som så blir lagra i variablen namn, før det blir skrive ut."
      ],
      "metadata": {
        "id": "lHfZAtMGLrpY"
      }
    },
    {
      "cell_type": "code",
      "source": [
        "namn = input(\"Skriv namnet ditt og trykk enter : \")\n",
        "print(namn)"
      ],
      "metadata": {
        "id": "pmOOl2GnL9G_"
      },
      "execution_count": null,
      "outputs": []
    },
    {
      "cell_type": "markdown",
      "source": [
        "Lær meir om [input-funksjonen her](https://colab.research.google.com/drive/1-iWIydhRgnDzSjVwjcUfhgUjxotfkNeO?usp=sharing)."
      ],
      "metadata": {
        "id": "6Ju92zBkhqqx"
      }
    },
    {
      "cell_type": "markdown",
      "source": [
        "# Løkker\n"
      ],
      "metadata": {
        "id": "RlJgYmr6CmKV"
      }
    },
    {
      "cell_type": "markdown",
      "source": [
        "Vi har nemnt variablar som ein av dei fundamentale ideane i programmering. Når ein står i startfasen av python-eventyret så er den andre viktige ideen løkker. (Beklager Ivar Aasen, eg får meg ikkje til å skrive \"lykkjer\"). Løkker betyr at datamaskinen med ein kort instruksjon kan gjere noko mange gongar. Omtrent det ein datamaskin er aller best til."
      ],
      "metadata": {
        "id": "AxTN7PzVDAJ5"
      }
    },
    {
      "cell_type": "code",
      "source": [
        "namn = \"Kristin\"\n",
        "\n",
        "for i in range(10):\n",
        "  print(namn)"
      ],
      "metadata": {
        "id": "vSEHd7G_DZZ9"
      },
      "execution_count": null,
      "outputs": []
    },
    {
      "cell_type": "markdown",
      "source": [
        "Dette er eit eksempel på ei for-løkke. Det finst nemlig eit par andre slike løkker, men vi held oss til denne no. Linja \"for i in range(10)\" kan du lese slik: \"For kver i, frå og med 0 til og med 9, skal vi gjere det som kjem på innrykket\".\n",
        "Merk at når vi gjer klar for ei for-løkke så må det stå eit kolon og vi må starte neste linje (det som skal gjentakast) med innrykk.\n",
        "Sjølv om vi gjentar noko ti gonger her, så skjer det noko anna og. Variablen (vi kallar det gjerne ein indeks) i får verdiane frå og med 0 til og med 9. Om vi skriv ut denne så ser vi korleis den varierer gjennom løkka:"
      ],
      "metadata": {
        "id": "mHYitrCpDkl9"
      }
    },
    {
      "cell_type": "code",
      "source": [
        "for i in range(10):\n",
        "  print(i)"
      ],
      "metadata": {
        "id": "E1Ot0LIXEP4s"
      },
      "execution_count": null,
      "outputs": []
    },
    {
      "cell_type": "markdown",
      "source": [
        "Sjå meir om [lykkjer](https://colab.research.google.com/drive/1N0_JxYJ0JJDl6J1yyLWsGeMPg7d5U8Hj?usp=sharing) her!"
      ],
      "metadata": {
        "id": "8mAGpixGS1wO"
      }
    },
    {
      "cell_type": "markdown",
      "source": [
        "# Vilkår"
      ],
      "metadata": {
        "id": "XCQTDYDBI3Ji"
      }
    },
    {
      "cell_type": "markdown",
      "source": [
        "Sammen med løkker og variablar utgjer vilkår ein trippel av viktige grunn-idear i programmering. I Python bruker me vilkår for å få programmet vi skriv til å ta ulike valg ut frå ulike situasjonar. Det er som å stille eit spørsmål: \"Er dette sant eller usant?\". Om svaret er \"sant\", så skjer det éin ting. Er svaret \"usant\", skjer det noko anna. Me brukar ordet \"if\" (om) for å starte ein betingelse. Etter \"if\" kjem ein påstand som kan vere sann eller usann."
      ],
      "metadata": {
        "id": "T09QxMNRJCNk"
      }
    },
    {
      "cell_type": "code",
      "source": [
        "namn = \"Kristin\"\n",
        "\n",
        "if namn==\"Kristin\":\n",
        "  print(\"yup\")\n",
        "else:\n",
        "  print(\"nope\")"
      ],
      "metadata": {
        "id": "5B389yaZJhJ0"
      },
      "execution_count": null,
      "outputs": []
    },
    {
      "cell_type": "markdown",
      "source": [
        "[Meir om vilkår kan du lese her ](https://colab.research.google.com/drive/10pQuNVyBTi8k8B1LR8NjFvxeWBy3Vl8C?usp=sharing)."
      ],
      "metadata": {
        "id": "H7OlTlwQUiNj"
      }
    },
    {
      "cell_type": "markdown",
      "source": [
        "# Lister"
      ],
      "metadata": {
        "id": "y21Yey-dOFWm"
      }
    },
    {
      "cell_type": "markdown",
      "source": [
        "Ei liste i Python er som ei handleliste, men for data i ein datamaskin. Du kan ha tal, tekst, eller til og med andre lister inni ei liste. Vi brukar klammeparentesar [ ] for å lage lister."
      ],
      "metadata": {
        "id": "biIKo0mBN572"
      }
    },
    {
      "cell_type": "code",
      "source": [
        "frukt = [\"eple\", \"banan\", \"pære\"]\n",
        "Liste_med_tall = [1, 2, 3, 4]"
      ],
      "metadata": {
        "id": "BjSt9jP8OAQA"
      },
      "execution_count": null,
      "outputs": []
    },
    {
      "cell_type": "markdown",
      "source": [
        "Her har vi laga to lister: ein med namn på frukt og ein med tal. Du kan tenke på ei liste som ei samling av element, og kvart element har sin eigen plass i lista. Det neste eksemplet viser korleis vi kan legge til fleire tal i ei liste ved å bruke input-kommandoen."
      ],
      "metadata": {
        "id": "0YvV7D1DOCX9"
      }
    },
    {
      "cell_type": "code",
      "source": [
        "for i in range(3):\n",
        "  tall = int(input(\"Skriv inn et tall : \"))\n",
        "  Liste_med_tall.append(tall)\n",
        "print(Liste_med_tall)"
      ],
      "metadata": {
        "id": "Y9sGwoKteSkT"
      },
      "execution_count": null,
      "outputs": []
    },
    {
      "cell_type": "markdown",
      "source": [
        "Her har vi brukt .append() for å legge til noko på slutten av lista. Det fins ein tilsvarande kommando .pop(), som \"popper\" ut eit element på eit bestemt sted i lista. [Listekapitlet finn du her.](https://colab.research.google.com/drive/1cJP_96KH1UD9ePEVITVn-wkbBU9lWQXK?usp=sharing)"
      ],
      "metadata": {
        "id": "FEeEt3mUuism"
      }
    },
    {
      "cell_type": "markdown",
      "source": [
        "#Funksjonar\n"
      ],
      "metadata": {
        "id": "XJAAxPJGOrgc"
      }
    },
    {
      "cell_type": "markdown",
      "source": [
        "Mange små oppgåver ein jobbar med i programmering treng ein å gjere fleire gonger. Til det kan vi bruke funksjonar som ein måte å dele opp programmene på. Funksjonar blir brukt absolutt heile tida når ein programmerer i \"profesjonell\" samanheng. Det kan vere litt vanskeleg å få oversikt over kva det eigentleg er, for funksjonar kan brukast på mange forskjellige måtar."
      ],
      "metadata": {
        "id": "LfwNMd4GOwac"
      }
    },
    {
      "cell_type": "code",
      "source": [
        "def print_helsing():\n",
        "  print(\"Hei på deg Ludvigsen\")\n",
        "\n",
        "print_helsing()"
      ],
      "metadata": {
        "id": "CxNUwf4wPJ7w"
      },
      "execution_count": null,
      "outputs": []
    },
    {
      "cell_type": "markdown",
      "source": [
        "Programmet over består av å lage ein funksjon som vi så køyrer. Det heiter eigentleg å KALLE på funksjonen. I tillegg til å gjere ting, kan funksjonen også gjere ting MED noko."
      ],
      "metadata": {
        "id": "uZfBUSJnPV7P"
      }
    },
    {
      "cell_type": "code",
      "source": [
        "def legg_saman(a,b):\n",
        "  return(a+b)\n",
        "\n",
        "legg_saman(4,5)\n",
        "#print(legg_saman(4,5))"
      ],
      "metadata": {
        "id": "8x-DoHWOPdw6"
      },
      "execution_count": null,
      "outputs": []
    },
    {
      "cell_type": "markdown",
      "source": [
        "Her ser du at det ikkje vil bli skrive ut noko, med mindre du ber om det. Funksjonen berre returnerer verdiar til hovudprogrammet, men den gjer ikkje noko meir enn det.\n",
        "[Meir om funksjonar her](https://colab.research.google.com/drive/12uCa73kjmhnCkQzjUZZlilB3kH1F6V6L?usp=sharing)."
      ],
      "metadata": {
        "id": "u4mhOL-h6Oih"
      }
    },
    {
      "cell_type": "markdown",
      "source": [
        "# Python for matematikkfaget\n",
        "For oss som underviser matematikk er python sentralt for fleire område. For eksempel er skilpaddegeometri, simulering og grafteikning område som er nemnd i læreplana. Vi skal sjå spesifikt på desse tre tinga, som vi må ha ei viss kontroll på som matematikklærarar."
      ],
      "metadata": {
        "id": "viZuinD5T6Lk"
      }
    },
    {
      "cell_type": "markdown",
      "source": [
        "## Diagram i python\n",
        "For oss som underviser matematikk er det å teikne diagram sentralt. Ein har nok enda fleir moglegheitar i python enn i grafteikningsprogram som GeoGebra, men så er det jo og litt meir vanskeleg og ein må ofte slå opp kommandoar og formateringsmåtar. Det er nok ikkje så intuitivt å formatere ein graf pent i python, så det er ikkje noko folk går rundt og hugser (stort sett)."
      ],
      "metadata": {
        "id": "3ol6EioKjgoJ"
      }
    },
    {
      "cell_type": "code",
      "source": [
        "# Her skal vi sjå kva som er det absolutt minste vi kan skrive for å plotte diagrammet.\n",
        "\n",
        "import matplotlib.pyplot as plt\n",
        "# lager lister\n",
        "fag_eg_likar = [\"matematikk\", \"statistikk\", \"programmering\", \"sannsynlighet\"]\n",
        "antall = [7, 11, 14, 6]\n",
        "\n",
        "# plotter verdiene\n",
        "plt.bar(fag_eg_likar, antall)\n",
        "# viser plottet\n",
        "plt.show()"
      ],
      "metadata": {
        "colab": {
          "base_uri": "https://localhost:8080/",
          "height": 430
        },
        "id": "UfsPGi31bW3F",
        "outputId": "32ad1d23-c33a-4e30-cf40-294da4470c12"
      },
      "execution_count": null,
      "outputs": [
        {
          "output_type": "display_data",
          "data": {
            "text/plain": [
              "<Figure size 640x480 with 1 Axes>"
            ],
            "image/png": "[encoded data removed]"
          },
          "metadata": {}
        }
      ]
    },
    {
      "cell_type": "markdown",
      "source": [
        "[Her er eit eige dokument om å lage grafar og diagram.](https://colab.research.google.com/drive/1tE8ZvjArKGWcb8vHA5LRfVn3ooV-d3qp?usp=sharing)"
      ],
      "metadata": {
        "id": "bN14Q3BQjnZQ"
      }
    },
    {
      "cell_type": "markdown",
      "source": [
        "## Simuleringar\n",
        "I arbeid med sannsyn og statistikk er det nyttig å kunne bruke python. Her kan vi f.eks. tenkje oss at stokastiske forsøk er sentralt. I denne delen av kurset skal vi [sjå nærmare på simuleringar](https://colab.research.google.com/drive/1FAu-rkjtmvjouLfEg1bNHb-eif-1B63P?usp=sharing)."
      ],
      "metadata": {
        "id": "pLCZLZNqUN6V"
      }
    },
    {
      "cell_type": "markdown",
      "source": [
        "## Skilpaddegeometri\n",
        "Skilpaddegeometri er ikkje spesielt passande for akkurat dette python-miljøet her på google colab, men det går an. [Her er kapitlet om skilpaddegeometri](https://colab.research.google.com/drive/1nwBJ04pVJDBg17lFuuJ2hDCfKHznq7wn?usp=sharing)."
      ],
      "metadata": {
        "id": "q0zgZO-SUO0q"
      }
    }
  ]
}