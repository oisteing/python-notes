{
  "nbformat": 4,
  "nbformat_minor": 0,
  "metadata": {
    "colab": {
      "provenance": [],
      "toc_visible": true
    },
    "kernelspec": {
      "name": "python3",
      "display_name": "Python 3"
    },
    "language_info": {
      "name": "python"
    }
  },
  "cells": [
    {
      "cell_type": "markdown",
      "source": [
        "# Løkker\n",
        "Dette kapitlet tek for seg bruken av løkker i Python. Me skal sjå på kvifor løkker er nyttige og korleis dei fungerer."
      ],
      "metadata": {
        "id": "9hZ3PBDkSe_6"
      }
    },
    {
      "cell_type": "markdown",
      "source": [
        "## Kva er løkker?\n",
        "\n",
        "Datamaskiner er ekstremt gode på å gjenta ting fleire gongar. Løkker vert brukte for å gjenta ein kodeblokk fleire gongar. I Python har me to hovudtypar av løkker:\n",
        "\n",
        "* for-løkker: Desse blir brukte når me veit kor mange gongar noko skal skje.\n",
        "\n",
        "* while-løkker: Desse blir brukte når me vil at noko skal skje så lenge ein viss tilstand er oppfylt.\n",
        "\n",
        "Dette er fundamentale konstruksjonar og det fins som regel slike typar løkker i dei fleste programmeringsspråk. Me skal no gå gjennom desse typane og sjå på døme.\n",
        "\n",
        "\n",
        "\n"
      ],
      "metadata": {
        "id": "i0_pBfaERmyi"
      }
    },
    {
      "cell_type": "markdown",
      "source": [
        "# For-løkker\n",
        "\n",
        "Ei for-løkke blir ofte brukt når du vil gjenta noko eit bestemt antal gonger. For eksempel kan du bruke ein for-løkke til å skrive ut tal frå 1 til 10:"
      ],
      "metadata": {
        "id": "7HWZV72fTgzg"
      }
    },
    {
      "cell_type": "code",
      "source": [
        "# Skriver ut tala frå 1 til 10\n",
        "for i in range(1, 11):\n",
        "    print(i)"
      ],
      "metadata": {
        "id": "dBCIege6Rz25"
      },
      "execution_count": null,
      "outputs": []
    },
    {
      "cell_type": "markdown",
      "source": [
        "\n",
        "\n",
        "Forklaring:\n",
        "\n",
        "for i in range(1, 11): betyr at i vil gå gjennom alle verdiane frå og med 1 til og med 10 (men ikkje til og med 11, som ein kanskje skulle tru). Så vi må merke oss at ein spesifiserer kor ein skal starte, men at løkka avsluttes rett før ein når sluttpunktet.\n",
        "\n",
        "print(i) gjer at me ser i på skjermen for kvart steg i løkka.\n",
        "\n",
        "Eit døme med tekst:\n",
        "\n"
      ],
      "metadata": {
        "id": "H5osrrKpRvAx"
      }
    },
    {
      "cell_type": "code",
      "source": [
        "# Skriver ut ei setning fleire gonger\n",
        "for i in range(5):\n",
        "    print(\"Dette er ei for-løkke!\")"
      ],
      "metadata": {
        "id": "ANmsTOZpR8Bi"
      },
      "execution_count": null,
      "outputs": []
    },
    {
      "cell_type": "markdown",
      "source": [
        "Her blir setninga \"Dette er ei for-løkke!\" skrive ut fem gonger. Ein skulle kanskje tru at det blei berre fire, sida vi sa at løkka stoppa rett FØR ein når den øvre grensa. Men python begynner å telle på 0, slik at i i dette tilfellet vil ha verdiane 0,1,2,3 og 4. Altså skjer det noko fem gonger.\n",
        "\n",
        "Bruk av input og variablar:\n",
        "\n"
      ],
      "metadata": {
        "id": "ABaWvoaJR5wq"
      }
    },
    {
      "cell_type": "code",
      "source": [
        "# Brukar input til å gjenta noko fleire gonger\n",
        "n = int(input(\"Kor mange gongar vil du skrive ut meldinga? \"))\n",
        "\n",
        "for i in range(n):\n",
        "    print(\"Hei, dette er ei melding!\")"
      ],
      "metadata": {
        "id": "CmQABo-HSD2g"
      },
      "execution_count": null,
      "outputs": []
    },
    {
      "cell_type": "markdown",
      "source": [
        "Kva trur du blir skrive ut av dette programmet under?"
      ],
      "metadata": {
        "id": "PKDAeA0jH8DR"
      }
    },
    {
      "cell_type": "code",
      "source": [
        "print(\"Microwaveovens be like \")\n",
        "for j in range(50):\n",
        "  for i in range(10):\n",
        "    print(\"mmmm\", end=\" \")\n",
        "  print(\"\")\n",
        "print(\"beep beep beep\")"
      ],
      "metadata": {
        "id": "k3rK6ivhH-QG"
      },
      "execution_count": null,
      "outputs": []
    },
    {
      "cell_type": "markdown",
      "source": [
        "\n",
        "\n",
        "Her bestemmer brukaren kor mange gongar meldinga skal skrivast ut.\n",
        "\n",
        "# While-løkker\n",
        "\n",
        "Ei while-løkke blir brukt når me ikkje nødvendigvis veit kor mange gongar me treng å gjenta noko. Den vil køyre så lenge ein gitt betingelse er sann.\n",
        "\n"
      ],
      "metadata": {
        "id": "O19jl4uMSBZY"
      }
    },
    {
      "cell_type": "code",
      "source": [
        "# Skriver ut tal frå 1 til 10 med while-løkke\n",
        "x = 1\n",
        "while x <= 10:\n",
        "    print(x)\n",
        "    x = x + 1  # Øker x med 1 kvar gong"
      ],
      "metadata": {
        "id": "VKVrGFdgSUey"
      },
      "execution_count": null,
      "outputs": []
    },
    {
      "cell_type": "markdown",
      "source": [
        "\n",
        "Forklaring:\n",
        "\n",
        "x = 1 set startverdien til x.\n",
        "\n",
        "while x <= 10: gjer at løkka held fram så lenge x er mindre enn eller lik 10.\n",
        "\n",
        "x = x+ 1 aukar x med 1 for kvar runde.\n",
        "\n",
        "Bruk av input med while:\n",
        "\n",
        "\n",
        "\n",
        "\n"
      ],
      "metadata": {
        "id": "a1DpQ1bpSHmT"
      }
    },
    {
      "cell_type": "code",
      "source": [
        "# Brukaren bestemmer når løkka skal stoppe\n",
        "svar = \"\"\n",
        "while svar != \"ja\":\n",
        "    svar = input(\"Skriv 'ja' for å stoppe: \")\n",
        "\n",
        "print(\"Du skreiv ja, programmet er ferdig!\")"
      ],
      "metadata": {
        "id": "9bhMbjjZSadn"
      },
      "execution_count": null,
      "outputs": []
    },
    {
      "cell_type": "markdown",
      "source": [
        "\n",
        "\n",
        "Her vil programmet be brukaren skrive \"ja\" før det stoppar.\n",
        "\n",
        "Kombinasjon av for- og while-løkker\n",
        "\n",
        "Løkker kan kombinerast for å lage meir avanserte program. Her er eit døme der me brukar både for- og while-løkker:\n"
      ],
      "metadata": {
        "id": "uJG1CKMuSYrD"
      }
    },
    {
      "cell_type": "code",
      "execution_count": null,
      "metadata": {
        "id": "lDnQcUX1JUKp"
      },
      "outputs": [],
      "source": [
        "# Brukar for-løkke inni ei while-løkke\n",
        "fortsett = \"ja\"\n",
        "\n",
        "while fortsett == \"ja\":\n",
        "    for i in range(5):\n",
        "        print(\"Dette er runde\", i+1)\n",
        "\n",
        "    fortsett = input(\"Vil du køyre programmet på nytt? (ja/nei): \")"
      ]
    },
    {
      "cell_type": "markdown",
      "source": [
        "I Python har ein fleire måtar å skrive løkker på. Ein treng kanskje ikkje å sette seg inn i alle desse, men det kan kanskje vere greitt å vite at dei fins?"
      ],
      "metadata": {
        "id": "EaJHB63hSLZj"
      }
    },
    {
      "cell_type": "code",
      "source": [
        "for countdown in 5, 4, 3, 2, 1, \"hey!\":\n",
        "  print(countdown)"
      ],
      "metadata": {
        "colab": {
          "base_uri": "https://localhost:8080/"
        },
        "id": "zsT1m1hykJxV",
        "outputId": "1fd52498-5ef1-465a-c982-ccb15d8f3618"
      },
      "execution_count": null,
      "outputs": [
        {
          "output_type": "stream",
          "name": "stdout",
          "text": [
            "5\n",
            "4\n",
            "3\n",
            "2\n",
            "1\n",
            "hey!\n"
          ]
        }
      ]
    },
    {
      "cell_type": "code",
      "source": [
        "listemedtal = [1,3,5,7]\n",
        "\n",
        "for tall in listemedtal:\n",
        "  print (tall**2)"
      ],
      "metadata": {
        "colab": {
          "base_uri": "https://localhost:8080/"
        },
        "id": "mTUlH7KtjW8N",
        "outputId": "fe8f40c8-3374-4a3c-82a6-c2bda8c4e761"
      },
      "execution_count": null,
      "outputs": [
        {
          "output_type": "stream",
          "name": "stdout",
          "text": [
            "1\n",
            "9\n",
            "25\n",
            "49\n"
          ]
        }
      ]
    }
  ]
}
