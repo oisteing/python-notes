{
  "nbformat": 4,
  "nbformat_minor": 0,
  "metadata": {
    "colab": {
      "provenance": [],
      "toc_visible": true
    },
    "kernelspec": {
      "name": "python3",
      "display_name": "Python 3"
    },
    "language_info": {
      "name": "python"
    }
  },
  "cells": [
    {
      "cell_type": "markdown",
      "source": [
        "# Pythonkurs: Bruk av `print`-kommandoen\n",
        "([Klikk her for å gå tilbake til førstesida ](https://colab.research.google.com/drive/1NX5VPTqJO3mFgFo7CkOkM0JmppHJM0eg?usp=sharing))"
      ],
      "metadata": {
        "id": "94QfrBn-ZJMA"
      }
    },
    {
      "cell_type": "markdown",
      "source": [
        "Velkomen til dette kapitlet som gir ei grundig innføring i kommandoen `print`. `print` er ein av dei mest grunnleggjande og nyttige funksjonane i Python. Den brukast for å skrive tekst, tal eller andre verdiar til konsollen. Dette kurset dekker korleis ein brukar `print` i ulike samanhengar, samt gir deg rikeleg med eksempel for å praktisera."
      ],
      "metadata": {
        "id": "covTQp87Zcu9"
      }
    },
    {
      "cell_type": "markdown",
      "source": [
        "# Kva er print"
      ],
      "metadata": {
        "id": "h3f3xuSXZVas"
      }
    },
    {
      "cell_type": "markdown",
      "source": [
        "I Python er `print` en innebygd funksjon som brukes til å vise data til brukeren. Du kan bruke den til å vise tekst (strenger), tall, eller kombinasjoner av ulike datatyper. Funksjonen er enkel, men samtidig veldig kraftig og fleksibel.\n",
        "\n",
        "### Grunnleggende bruk av `print`\n",
        "\n",
        "Den enkleste måten å bruke `print` på er å skrive teksten du vil vise, omgitt av anførselstegn:\n"
      ],
      "metadata": {
        "id": "yU3u_iaDUcX_"
      }
    },
    {
      "cell_type": "code",
      "source": [
        "print(\"Hei, verden!\")  # Skriver ut \"Hei, verden!\" til konsollen\n"
      ],
      "metadata": {
        "colab": {
          "base_uri": "https://localhost:8080/"
        },
        "id": "ZIl-WQsRUdh0",
        "outputId": "daf3dd74-1602-4458-e13f-c391fce4678f"
      },
      "execution_count": null,
      "outputs": [
        {
          "output_type": "stream",
          "name": "stdout",
          "text": [
            "Hei, verden!\n"
          ]
        }
      ]
    },
    {
      "cell_type": "markdown",
      "source": [
        "Du kan også bruke enkeltanførselstegn for tekst:"
      ],
      "metadata": {
        "id": "OItt0d4KVJxB"
      }
    },
    {
      "cell_type": "code",
      "source": [
        "print('Hei, verden!')  # Skriver ut \"Hei, verden!\""
      ],
      "metadata": {
        "id": "d2EiBmlbVPvU"
      },
      "execution_count": null,
      "outputs": []
    },
    {
      "cell_type": "markdown",
      "source": [
        "Begge måtene fungerer like bra, men det er lurt å være konsekvent i valget mellom doble og enkle anførselstegn.\n",
        "\n",
        "## Skriv ut flere verdier samtidig\n",
        "\n",
        "`print` kan brukes til å skrive ut flere verdier samtidig ved å separere dem med komma:\n"
      ],
      "metadata": {
        "id": "Z88oMSwAVtaK"
      }
    },
    {
      "cell_type": "code",
      "source": [
        "print(\"Hei\", \"verden!\", 123)  # Skriver ut: Hei verden! 123"
      ],
      "metadata": {
        "id": "Agx7_biaV1g8"
      },
      "execution_count": null,
      "outputs": []
    },
    {
      "cell_type": "markdown",
      "source": [
        "Python vil automatisk legge til et mellomrom mellom verdiene du skriver ut.\n",
        "\n",
        "## Escape-tegn\n",
        "\n",
        "Noen ganger må vi bruke spesialtegn inne i en streng. Dette gjør vi ved å bruke \"escape-tegn\" (\\). For eksempel:"
      ],
      "metadata": {
        "id": "9rzyriSVV5Rr"
      }
    },
    {
      "cell_type": "code",
      "source": [
        "print(\"Han sa: \\\"Hei!\\\"\")  # Skriver ut: Han sa: \"Hei!\""
      ],
      "metadata": {
        "id": "nRhZPZReV9V0"
      },
      "execution_count": null,
      "outputs": []
    },
    {
      "cell_type": "markdown",
      "source": [
        "Her brukes `\\\"` for å inkludere anførselstegn inni teksten.\n",
        "\n",
        "## Linjeskift og spesialtegn\n",
        "\n",
        "For å lage et linjeskift i utskriften kan vi bruke `\\n`:"
      ],
      "metadata": {
        "id": "mSIbPTRVWSR_"
      }
    },
    {
      "cell_type": "code",
      "source": [
        "print(\"Hei\\nVerden!\")  # Skriver ut:\n",
        "# Hei\n",
        "# Verden!"
      ],
      "metadata": {
        "id": "VazMzWkFWWk3"
      },
      "execution_count": null,
      "outputs": []
    },
    {
      "cell_type": "markdown",
      "source": [
        "Andre vanlige spesialtegn inkluderer:\n",
        "- `\\t` for tabulator\n",
        "- `\\\\` for å skrive ut en backslash\n",
        "\n",
        "Eksempel:"
      ],
      "metadata": {
        "id": "Diq1fqdkWfbS"
      }
    },
    {
      "cell_type": "code",
      "source": [
        "print(\"Dette er\\tet eksempel\\nmed spesialtegn.\")\n",
        "# Skriver ut:\n",
        "# Dette er\tet eksempel\n",
        "# med spesialtegn."
      ],
      "metadata": {
        "id": "pM4gR3SCWjeH"
      },
      "execution_count": null,
      "outputs": []
    },
    {
      "cell_type": "markdown",
      "source": [
        "\n",
        "\n",
        "## Endre avslutning av utskrift\n",
        "\n",
        "Som standard avsluttes hver `print`-kommando med et linjeskift. Dette kan endres ved å bruke argumentet `end`:"
      ],
      "metadata": {
        "id": "5IkEG5rBWmmc"
      }
    },
    {
      "cell_type": "code",
      "source": [
        "print(\"Dette er\", end=\" \")\n",
        "print(\"en setning.\")\n",
        "# Skriver ut: Dette er en setning."
      ],
      "metadata": {
        "id": "Bt3JzqzyWnCF"
      },
      "execution_count": null,
      "outputs": []
    },
    {
      "cell_type": "markdown",
      "source": [
        "# Bruke `print` med formatering\n",
        "\n",
        "Det finnes flere måter å formatere tekst når du bruker `print`:\n",
        "\n"
      ],
      "metadata": {
        "id": "rYLY2lbQW1OL"
      }
    },
    {
      "cell_type": "markdown",
      "source": [
        "### 1. Formatstrenger\n",
        "\n",
        "Du kan bruke `str.format` for å sette inn tekst og tall i en streng:"
      ],
      "metadata": {
        "id": "6QyqQ4ASYnLk"
      }
    },
    {
      "cell_type": "code",
      "source": [
        "print(\"Dette er en {} med nummer {}.\".format(\"tekst\", 123))\n",
        "# Skriver ut: Dette er en tekst med nummer 123.\n"
      ],
      "metadata": {
        "id": "_zIbyRTlW37c"
      },
      "execution_count": null,
      "outputs": []
    },
    {
      "cell_type": "markdown",
      "source": [
        "### 2. F-strenger (f-strings)\n",
        "\n",
        "I nyere versjoner av Python (3.6 og oppover) kan du bruke f-strenger for enklere formatering:\n",
        "\n"
      ],
      "metadata": {
        "id": "pi3c0GBSW6yV"
      }
    },
    {
      "cell_type": "code",
      "source": [
        "print(f\"Hei, dette er en tekst med et tall: {123}\")\n",
        "# Skriver ut: Hei, dette er en tekst med et tall: 123\n"
      ],
      "metadata": {
        "id": "c7uZlerqW9Pl"
      },
      "execution_count": null,
      "outputs": []
    },
    {
      "cell_type": "markdown",
      "source": [
        "F-strenger er veldig fleksible og anbefales for lesbarhet.\n",
        "\n",
        "### 3. Prosentformatering\n",
        "\n",
        "En eldre metode for formatering er å bruke prosenttegn:\n"
      ],
      "metadata": {
        "id": "-5I7iAJFXDhM"
      }
    },
    {
      "cell_type": "code",
      "source": [
        "print(\"Dette er en %s med nummer %d\" % (\"tekst\", 123))\n",
        "# Skriver ut: Dette er en tekst med nummer 123\n"
      ],
      "metadata": {
        "id": "KEBPxwqBXFkV"
      },
      "execution_count": null,
      "outputs": []
    },
    {
      "cell_type": "markdown",
      "source": [
        "Denne metoden brukes sjeldnere i nyere Python."
      ],
      "metadata": {
        "id": "7BI0ZkvJUT7q"
      }
    },
    {
      "cell_type": "markdown",
      "source": [
        "# Kommentarer med `#`\n",
        "\n",
        "Som du har sett fleire gonger i kodane så langt så har det stått pundteikn med jamne mellomrom. Når vi skriver Python-kode, kan vi bruke pundteiknet/kommentarteiknet `#` for å leggje til forklaringar i koden. Python ignorerer alt som står etter `#` på same linje.\n",
        "\n",
        "Eksempel:\n",
        "\n"
      ],
      "metadata": {
        "id": "uWKt6qeFXTww"
      }
    },
    {
      "cell_type": "code",
      "source": [
        "print(\"Hei, verden!\")  # Dette skriver ut \"Hei, verden!\"\n"
      ],
      "metadata": {
        "id": "mVnC6YBBXaWU"
      },
      "execution_count": null,
      "outputs": []
    },
    {
      "cell_type": "markdown",
      "source": [
        "Kommentarer gjør koden lettere å forstå for deg selv og andre som leser den senere.\n",
        "\n",
        "# Skrive ut spesialtegn med `print`\n",
        "\n",
        "Hvis du vil skrive ut spesialtegn, som anførselstegn eller backslash, kan du bruke escape-tegn:\n",
        "\n"
      ],
      "metadata": {
        "id": "6OZUV2REX__-"
      }
    },
    {
      "cell_type": "code",
      "source": [
        "print(\"Her er et \\\"anførselstegn\\\".\")  # Skriver ut: Her er et \"anførselstegn\".\n",
        "print(\"En backslash: \\\\\")  # Skriver ut: En backslash: \\\n"
      ],
      "metadata": {
        "id": "I-OxrCXVYC5I"
      },
      "execution_count": null,
      "outputs": []
    },
    {
      "cell_type": "markdown",
      "source": [
        "# Kontrollere separatoren mellom verdier\n",
        "\n",
        "Du kan endre standard mellomrommet mellom verdier ved å bruke argumentet `sep`:\n",
        "\n"
      ],
      "metadata": {
        "id": "qOJLVx3EYU_E"
      }
    },
    {
      "cell_type": "code",
      "source": [
        "print(\"Eple\", \"Banan\", \"Appelsin\", sep=\", \")\n",
        "# Skriver ut: Eple, Banan, Appelsin\n"
      ],
      "metadata": {
        "colab": {
          "base_uri": "https://localhost:8080/"
        },
        "id": "WWlylhK4YXbg",
        "outputId": "bf279ad7-181c-444a-9451-e135a86d1d1a"
      },
      "execution_count": null,
      "outputs": [
        {
          "output_type": "stream",
          "name": "stdout",
          "text": [
            "Eple, Banan, Appelsin\n"
          ]
        }
      ]
    },
    {
      "cell_type": "markdown",
      "source": [
        "Dette er nyttig når du vil formatere teksten på ein spesiell måte."
      ],
      "metadata": {
        "id": "EjepdWTnUqSC"
      }
    },
    {
      "cell_type": "markdown",
      "source": [
        "# Oppsummering\n",
        "\n",
        "Kommandoen `print` er eit kraftig verktøy i Python som lar deg vise informasjon på ein enkel og fleksibel måte. I dette kapitlet har vi sett på:\n",
        "\n",
        "1. Grunnleggjande bruk av `print`\n",
        "2. Escape-tegn og spesialteikn\n",
        "3. Formatering med `str.format`, f-strenger og prosenttegn\n",
        "4. Endring av avslutning og separator\n",
        "\n",
        "Husk at `print` ikkje bare er for debugging, men og for å lage tydeleg og informativ programutdata. Prøv sjølv med ulike eksempel og eksperimenter med de forskjellige måtane!\n",
        "\n",
        "Gå vidare til neste kapittel, [om variablar](https://colab.research.google.com/drive/1E6lt6e2Uz4EeK8Df4ToiIAqWmYMPzgXf?usp=sharing), når du er klar!\n",
        "\n"
      ],
      "metadata": {
        "id": "P7SqSNSGUScc"
      }
    }
  ]
}